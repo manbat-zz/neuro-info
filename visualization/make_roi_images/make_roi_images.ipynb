{
 "metadata": {
  "name": ""
 },
 "nbformat": 3,
 "nbformat_minor": 0,
 "worksheets": [
  {
   "cells": [
    {
     "cell_type": "markdown",
     "metadata": {},
     "source": [
      "Here is an example of using nipype (which wraps fsl) to automate producing an roi image overlayed on an anatomical image.  The functions from this example are included in the \"imageutils\" module in the mri folder. First, let's define our anatomical and roi images:"
     ]
    },
    {
     "cell_type": "code",
     "collapsed": false,
     "input": [
      "standard = \"sub013_mpr1_on_TRIO_Y_NDC_222_brain.nii.gz\"\n",
      "roi = \"parcels.L.bin.001.nii.gz\""
     ],
     "language": "python",
     "metadata": {},
     "outputs": [],
     "prompt_number": 1
    },
    {
     "cell_type": "markdown",
     "metadata": {},
     "source": [
      "The above is fine for a single image, but let's say we wanted to get all images that match a particular pattern?  Here is how we do that (let's use glob!):"
     ]
    },
    {
     "cell_type": "code",
     "collapsed": false,
     "input": [
      "import glob\n",
      "rois = glob.glob(\"parcels*.nii.gz\")\n",
      "rois"
     ],
     "language": "python",
     "metadata": {},
     "outputs": [
      {
       "metadata": {},
       "output_type": "pyout",
       "prompt_number": 2,
       "text": [
        "['parcels.L.bin.001.nii.gz']"
       ]
      }
     ],
     "prompt_number": 2
    },
    {
     "cell_type": "markdown",
     "metadata": {},
     "source": [
      "If we had more images in the folder that matched the regular expression `parcels*.nii.gz` they would be in that list. Note that the file name has a number in it - later we will extract those numbers to name our new files. Ops, now we need to read in our file of Z coordinates.  This is a single column text file, with each value at row i corresponding to the Z coordinate of roi i.  To do this, we are going to use pandas, a package that makes it easy to work with data matrices."
     ]
    },
    {
     "cell_type": "code",
     "collapsed": false,
     "input": [
      "import pandas as pd\n",
      "roi_z_file = \"roi_z_lookup.txt\"\n",
      "Z = pd.read_csv(roi_z_file)\n",
      "Z.head"
     ],
     "language": "python",
     "metadata": {},
     "outputs": [
      {
       "metadata": {},
       "output_type": "pyout",
       "prompt_number": 3,
       "text": [
        "<bound method DataFrame.head of       Z\n",
        "0    49\n",
        "1    52\n",
        "2    61\n",
        "3    45\n",
        "4    31\n",
        "5    32\n",
        "6    42\n",
        "7    22\n",
        "8    47\n",
        "9    47\n",
        "10   42\n",
        "11   36\n",
        "12   33\n",
        "13   33\n",
        "14   30\n",
        "15   27\n",
        "16   35\n",
        "17   33\n",
        "18   34\n",
        "19   52\n",
        "20   53\n",
        "21   56\n",
        "22   55\n",
        "23   52\n",
        "24   61\n",
        "25   56\n",
        "26   52\n",
        "27   45\n",
        "28   40\n",
        "29   50\n",
        "..   ..\n",
        "604  55\n",
        "605  60\n",
        "606  56\n",
        "607  53\n",
        "608  24\n",
        "609  36\n",
        "610  33\n",
        "611  30\n",
        "612  35\n",
        "613  23\n",
        "614  28\n",
        "615  31\n",
        "616  26\n",
        "617  27\n",
        "618  24\n",
        "619  30\n",
        "620  37\n",
        "621  38\n",
        "622  33\n",
        "623  32\n",
        "624  27\n",
        "625  24\n",
        "626  29\n",
        "627  37\n",
        "628  38\n",
        "629  33\n",
        "630  32\n",
        "631  26\n",
        "632  23\n",
        "633  29\n",
        "\n",
        "[634 rows x 1 columns]>"
       ]
      }
     ],
     "prompt_number": 3
    },
    {
     "cell_type": "markdown",
     "metadata": {},
     "source": [
      "The .head function will show the top and bottom of the data frame.  The numbers on the left are row numbers, and the right is the Z score column (the file has Z on the first line, the column name).  If we wanted to look at column names, we could look at Z.columns.  We only have one row here, so it's not so interesting.  We probably don't need such an extensive data object, so lets read this column into a list."
     ]
    },
    {
     "cell_type": "code",
     "collapsed": false,
     "input": [
      "Z = list(Z[\"Z\"])\n",
      "Z[1:10]"
     ],
     "language": "python",
     "metadata": {},
     "outputs": [
      {
       "metadata": {},
       "output_type": "pyout",
       "prompt_number": 4,
       "text": [
        "[52, 61, 45, 31, 32, 42, 22, 47, 47]"
       ]
      }
     ],
     "prompt_number": 4
    },
    {
     "cell_type": "markdown",
     "metadata": {},
     "source": [
      "Awesome! Now the value of Z at index i corresponds to the Z coordinate of roi number i.  Now let's use the nipype tools (shoutout to Chris!) to create an overlay of the roi on the image, and save this as a temporary image that we can slice up.  This process will be inside a loop, but we will start with the basics and just do one image. The script below is going to generate a temporary image (tmp.nii.gz) that will have the overlay on top of the standard anatomical brain.  We are always naming it \"tmp.nii.gz\" because we have no reason to keep it around, and can overwrite it on each step."
     ]
    },
    {
     "cell_type": "code",
     "collapsed": false,
     "input": [
      "from nipype.interfaces import fsl\n",
      "\n",
      "for roi in rois:\n",
      "  combine = fsl.Overlay()\n",
      "  # We want the background image to be our standard\n",
      "  combine.inputs.background_image = standard\n",
      "  combine.inputs.auto_thresh_bg = True\n",
      "  # Here is the roi\n",
      "  combine.inputs.stat_image = roi\n",
      "  # This is important - if we don't include 1 in the threshold, it will be an empty space\n",
      "  # and this makes the resulting image come out green.  I don't even know.\n",
      "  combine.inputs.stat_thresh = (0.5, 1.5)\n",
      "  combine.inputs.show_negative_stats = False\n",
      "  combine.inputs.out_file = \"tmp.nii.gz\"\n",
      "  res = combine.run()"
     ],
     "language": "python",
     "metadata": {},
     "outputs": [],
     "prompt_number": 31
    },
    {
     "cell_type": "markdown",
     "metadata": {},
     "source": [
      "This will put a \"tmp.nii.gz\" in the present working directory, which is the anatomical with the roi overlay on it.  Now we need to produce an output image at the right Z coordinate layer. We will first grab the Z index from our file based on an index in the filename:"
     ]
    },
    {
     "cell_type": "code",
     "collapsed": false,
     "input": [
      "import re\n",
      "# Make an expression to match any number of numbers\n",
      "expression = re.compile(\"[0-9]+\")\n",
      "# Search for the number\n",
      "match = expression.search(roi)\n",
      "# Get the start and end of the match\n",
      "number = roi[match.start():match.end()]\n",
      "number"
     ],
     "language": "python",
     "metadata": {},
     "outputs": [
      {
       "metadata": {},
       "output_type": "pyout",
       "prompt_number": 8,
       "text": [
        "'001'"
       ]
      }
     ],
     "prompt_number": 8
    },
    {
     "cell_type": "markdown",
     "metadata": {},
     "source": [
      "Remember that we would need to fine tune our regular expression if, for example, there were other numbers in the image name.  We now need to do two things.  We first need to convert it to a number, and use that number to index the Z variable, and then we also going to use it (as a string) to define out output file. "
     ]
    },
    {
     "cell_type": "code",
     "collapsed": false,
     "input": [
      "zcoord = Z[int(number)]\n",
      "print zcoord\n",
      "\n",
      "# Now make the roi output file name\n",
      "output_file = \"roi%s.png\" %(number)\n",
      "print output_file"
     ],
     "language": "python",
     "metadata": {},
     "outputs": [
      {
       "output_type": "stream",
       "stream": "stdout",
       "text": [
        "52\n",
        "roi001.png\n"
       ]
      }
     ],
     "prompt_number": 12
    },
    {
     "cell_type": "markdown",
     "metadata": {},
     "source": [
      "Eggcellent! Now let's do some slicing!  With slicer.  I guess that is a terrible joke.  I'm not sure if this is a bug, but if you don't specify an output image, it will output using the same input image name.  If you do, it gives you an error that the .png image doesn't exist.  This means that we need to first create an empty png, and then save to it, because I don't want to produce a million .tar.gz images with the overlay."
     ]
    },
    {
     "cell_type": "code",
     "collapsed": false,
     "input": [
      "from PIL import Image\n",
      "\n",
      "# This is going to trick it that the image exists\n",
      "img = Image.new('RGBA', (100, 100), (255, 0, 0, 0))\n",
      "img.save(\"tmp.png\", \"PNG\")\n",
      "\n",
      "slice = fsl.Slicer()\n",
      "slice.inputs.in_file = \"tmp.nii.gz\"\n",
      "slice.inputs.terminal_output = \"file\"\n",
      "# This is supposed to be image width, but it's being used as the file name.\n",
      "# so let's name it according to the image number\n",
      "#slice.inputs.image_width = int(number)\n",
      "slice.inputs.slice_number = 50\n",
      "slice.inputs.label_slices = False\n",
      "slice.inputs.single_slice = 'z'\n",
      "slice.inputs.image_width = 750\n",
      "# This is actually the only way we have to control the size! It looks fuzzy. Not happy!\n",
      "slice.inputs.scaling = 3\n",
      "slice.inputs.args = output_file\n",
      "#slice.inputs.out_file = \"tmp.png\"\n",
      "res = slice.run() "
     ],
     "language": "python",
     "metadata": {},
     "outputs": [],
     "prompt_number": 50
    },
    {
     "cell_type": "markdown",
     "metadata": {},
     "source": [
      "Now let's put this entire thing into a loop, and specify an output directory so we can just make all of them in batch.  Remember that running this code assumes that all the correct modules have been imported, etc. We are basically just putting everything into a loop."
     ]
    },
    {
     "cell_type": "code",
     "collapsed": false,
     "input": [
      "output_directory = \"/home/vanessa/Documents/Work/MYCONNECTOME/roi_images\"\n",
      "input_directory = \"/home/vanessa/Documents/Work/MYCONNECTOME/roi\"\n",
      "rois = glob.glob(\"%s/parcels*.nii.gz\" % input_directory)\n",
      "\n",
      "# Our expression\n",
      "expression = re.compile(\"[0-9]+\")  \n",
      "\n",
      "for roi in rois:\n",
      "  combine = fsl.Overlay()\n",
      "  # We want the background image to be our standard\n",
      "  combine.inputs.background_image = standard\n",
      "  combine.inputs.auto_thresh_bg = True\n",
      "  # Here is the roi\n",
      "  combine.inputs.stat_image = roi\n",
      "  # This is important - if we don't include 1 in the threshold, it will be an empty space\n",
      "  # and this makes the resulting image come out green.  I don't even know.\n",
      "  combine.inputs.stat_thresh = (0.5, 1.5)\n",
      "  combine.inputs.show_negative_stats = False\n",
      "  combine.inputs.out_file = \"tmp.nii.gz\"\n",
      "  res = combine.run()\n",
      "    \n",
      "  # Search for the number\n",
      "  match = expression.search(roi)\n",
      "  # Get the start and end of the match\n",
      "  number = roi[match.start():match.end()]\n",
      "  \n",
      "  # Get the Z coord\n",
      "  # Remember we have 0 indexing in python, so we need to subtract one!\n",
      "  zcoord = Z[int(number)-1]\n",
      "\n",
      "  # Now make the roi output file name\n",
      "  output_file = \"roi%s.png\" %(number)\n",
      "    \n",
      "  slice = fsl.Slicer()\n",
      "  slice.inputs.in_file = \"tmp.nii.gz\"\n",
      "  slice.inputs.terminal_output = \"file\"\n",
      "  # This is supposed to be image width, but it's being used as the file name.\n",
      "  # so let's name it according to the image number\n",
      "  #slice.inputs.image_width = int(number)\n",
      "  slice.inputs.slice_number = int(zcoord)\n",
      "  slice.inputs.label_slices = False\n",
      "  slice.inputs.single_slice = 'z'\n",
      "  slice.inputs.image_width = 750\n",
      "  # This is actually the only way we have to control the size! It looks fuzzy. Not happy!\n",
      "  slice.inputs.scaling = 3\n",
      "  # We have to pass the output file name into args, because it doesn't work otherwise\n",
      "  slice.inputs.args = \"%s/%s\" %(output_directory,output_file)\n",
      "  res = slice.run() "
     ],
     "language": "python",
     "metadata": {},
     "outputs": [],
     "prompt_number": 57
    },
    {
     "cell_type": "markdown",
     "metadata": {},
     "source": [
      "You now should have images in the output directory, one for each ROI, scaled at 3 times the traditional output size.  Let's look to see if the files are there:"
     ]
    },
    {
     "cell_type": "code",
     "collapsed": false,
     "input": [
      "thefiles = glob.glob(output_directory + \"/*.png\")\n",
      "thefiles[1:10]"
     ],
     "language": "python",
     "metadata": {},
     "outputs": [
      {
       "metadata": {},
       "output_type": "pyout",
       "prompt_number": 61,
       "text": [
        "['/home/vanessa/Documents/Work/MYCONNECTOME/roi_images/roi617.png',\n",
        " '/home/vanessa/Documents/Work/MYCONNECTOME/roi_images/roi480.png',\n",
        " '/home/vanessa/Documents/Work/MYCONNECTOME/roi_images/roi434.png',\n",
        " '/home/vanessa/Documents/Work/MYCONNECTOME/roi_images/roi422.png',\n",
        " '/home/vanessa/Documents/Work/MYCONNECTOME/roi_images/roi447.png',\n",
        " '/home/vanessa/Documents/Work/MYCONNECTOME/roi_images/roi414.png',\n",
        " '/home/vanessa/Documents/Work/MYCONNECTOME/roi_images/roi430.png',\n",
        " '/home/vanessa/Documents/Work/MYCONNECTOME/roi_images/roi004.png',\n",
        " '/home/vanessa/Documents/Work/MYCONNECTOME/roi_images/roi031.png']"
       ]
      }
     ],
     "prompt_number": 61
    },
    {
     "cell_type": "markdown",
     "metadata": {},
     "source": [
      "Good job! Now someone really needs to figure out what in the heck is going on with slicer!"
     ]
    }
   ],
   "metadata": {}
  }
 ]
}